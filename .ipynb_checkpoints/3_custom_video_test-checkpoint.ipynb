{
 "cells": [
  {
   "cell_type": "code",
   "execution_count": 1,
   "id": "d99703d7",
   "metadata": {},
   "outputs": [],
   "source": [
    "import tensorflow as tf\n",
    "from tensorflow.keras import datasets, layers, models\n",
    "import matplotlib.pyplot as plt\n",
    "import numpy as np\n",
    "import os\n",
    "from imutils import paths\n",
    "import cv2\n",
    "import numpy as np\n",
    "import os\n",
    "import imutils\n",
    "import dlib\n",
    "import cv2 \n",
    "\n",
    "import imageio\n",
    "from imutils import face_utils"
   ]
  },
  {
   "cell_type": "code",
   "execution_count": 2,
   "id": "132af988",
   "metadata": {},
   "outputs": [],
   "source": [
    "def create_dir(path):\n",
    "    try:\n",
    "        if not os.path.exists(path):\n",
    "            os.makedirs(path)\n",
    "    except OSError:\n",
    "        print(f\"ERROR: creating directory with name {path}\")"
   ]
  },
  {
   "cell_type": "code",
   "execution_count": 3,
   "id": "ecb53483",
   "metadata": {},
   "outputs": [],
   "source": [
    "def save_frame(video_path, save_dir, gap=1):\n",
    "#     name = video_path.split(\"/\")[-1].split(\".\")[0]\n",
    "    name = 'frames'\n",
    "    save_path = os.path.join(save_dir, name)\n",
    "    create_dir(save_path)\n",
    "    print(save_path)\n",
    "    print(video_path)\n",
    "\n",
    "    cap = cv2.VideoCapture(video_path)\n",
    "    idx = 0\n",
    "\n",
    "    while True:\n",
    "        ret, frame = cap.read()\n",
    "\n",
    "        if ret == False:\n",
    "            cap.release()\n",
    "            break\n",
    "\n",
    "        if idx == 0:\n",
    "            cv2.imwrite(f\"{save_path}/{idx}.png\", frame)\n",
    "        else:\n",
    "            if idx % gap == 0:\n",
    "                cv2.imwrite(f\"{save_path}/{idx}.png\", frame)\n",
    "\n",
    "        idx += 1\n"
   ]
  },
  {
   "cell_type": "code",
   "execution_count": 4,
   "id": "7155e691",
   "metadata": {},
   "outputs": [],
   "source": [
    "if not os.path.exists(r'custom'):\n",
    "    os.mkdir(r'custom')\n",
    "if not os.path.exists(r'custom\\frames'):\n",
    "    os.mkdir(r'custom\\frames')\n",
    "if not os.path.exists(r'custom\\cropped'):\n",
    "    os.mkdir(r'custom\\cropped')"
   ]
  },
  {
   "cell_type": "code",
   "execution_count": 5,
   "id": "d59387fa",
   "metadata": {},
   "outputs": [],
   "source": [
    "save_frames =r\"custom\"\n",
    "video_path = r\"custom\\custom_video.mp4\"\n"
   ]
  },
  {
   "cell_type": "code",
   "execution_count": 6,
   "id": "1afaa26d",
   "metadata": {},
   "outputs": [
    {
     "name": "stdout",
     "output_type": "stream",
     "text": [
      "custom\\frames\n",
      "custom\\custom_video.mp4\n"
     ]
    }
   ],
   "source": [
    "save_frame(video_path, save_frames, gap=5)\n"
   ]
  },
  {
   "cell_type": "code",
   "execution_count": 7,
   "id": "e86023dc",
   "metadata": {},
   "outputs": [
    {
     "name": "stdout",
     "output_type": "stream",
     "text": [
      "['0.png', '10.png', '15.png', '20.png', '25.png', '30.png', '35.png', '40.png', '45.png', '5.png', '50.png', '55.png', '60.png', '65.png']\n"
     ]
    }
   ],
   "source": [
    "\n",
    "file_list = os.listdir(r'custom\\frames')\n",
    "print(file_list)"
   ]
  },
  {
   "cell_type": "code",
   "execution_count": 8,
   "id": "bbd2cd8b",
   "metadata": {},
   "outputs": [],
   "source": [
    "def crop_and_save_image(img, img_path, write_img_path, img_name):\n",
    "    detector = dlib.get_frontal_face_detector()\n",
    "    predictor = dlib.shape_predictor('shape_predictor_68_face_landmarks.dat')\n",
    "    # load the input image, resize it, and convert it to grayscale\n",
    "\n",
    "    image = cv2.imread(img_path)\n",
    "    image = imutils.resize(image, width=500)\n",
    "    gray = cv2.cvtColor(image, cv2.COLOR_BGR2GRAY)\n",
    "\n",
    "    # detect faces in the grayscale image\n",
    "    rects = detector(gray, 1)\n",
    "    if len(rects) > 1:\n",
    "        print(\"Error\")\n",
    "        return\n",
    "    if len(rects) < 1:\n",
    "        print( \"ERROR: no faces detected\")\n",
    "        return\n",
    "    for (i, rect) in enumerate(rects):\n",
    "        shape = predictor(gray, rect)\n",
    "        shape = face_utils.shape_to_np(shape)\n",
    "        name, i, j = 'mouth', 48, 68\n",
    "        # clone = gray.copy()\n",
    "        (x, y, w, h) = cv2.boundingRect(np.array([shape[i:j]]))        \n",
    "        roi = gray[y:y+h, x:x+w]\n",
    "        roi = imutils.resize(roi, width = 250, inter=cv2.INTER_CUBIC)        \n",
    "        print( write_img_path)\n",
    "        cv2.imwrite(write_img_path, roi)\n"
   ]
  },
  {
   "cell_type": "code",
   "execution_count": 9,
   "id": "b9d9f5f9",
   "metadata": {},
   "outputs": [
    {
     "name": "stderr",
     "output_type": "stream",
     "text": [
      "C:\\Users\\prana\\AppData\\Local\\Temp\\ipykernel_2208\\99909128.py:4: DeprecationWarning: Starting with ImageIO v3 the behavior of this function will switch to that of iio.v3.imread. To keep the current behavior (and make this warning disappear) use `import imageio.v2 as imageio` or call `imageio.v2.imread` directly.\n",
      "  image = imageio.imread(directory + '' + img_name)\n"
     ]
    },
    {
     "name": "stdout",
     "output_type": "stream",
     "text": [
      "custom/cropped/0.png\n",
      "custom/cropped/10.png\n",
      "custom/cropped/15.png\n",
      "custom/cropped/20.png\n",
      "custom/cropped/25.png\n",
      "custom/cropped/30.png\n",
      "custom/cropped/35.png\n",
      "custom/cropped/40.png\n",
      "custom/cropped/45.png\n",
      "custom/cropped/5.png\n",
      "custom/cropped/50.png\n",
      "custom/cropped/55.png\n",
      "custom/cropped/60.png\n",
      "custom/cropped/65.png\n"
     ]
    }
   ],
   "source": [
    "directory = r'custom/frames/'\n",
    "dir_temp = r'custom/cropped/'\n",
    "for img_name in file_list:\n",
    "    image = imageio.imread(directory + '' + img_name)\n",
    "    crop_and_save_image(image, directory + '' + img_name,dir_temp + '' + img_name, img_name)\n"
   ]
  },
  {
   "cell_type": "code",
   "execution_count": 10,
   "id": "d1de0421",
   "metadata": {},
   "outputs": [],
   "source": [
    "from tensorflow.keras.models import Model\n",
    "from tensorflow.keras.models import load_model\n",
    "\n",
    "savedModel=load_model('lip_model_cnn_lstm.h5')\n"
   ]
  },
  {
   "cell_type": "code",
   "execution_count": 11,
   "id": "9807552e",
   "metadata": {},
   "outputs": [],
   "source": [
    "max_seq_length = 22\n",
    "MAX_WIDTH = 100\n",
    "MAX_HEIGHT = 100"
   ]
  },
  {
   "cell_type": "code",
   "execution_count": 12,
   "id": "74375a49",
   "metadata": {},
   "outputs": [
    {
     "name": "stderr",
     "output_type": "stream",
     "text": [
      "C:\\Users\\prana\\AppData\\Local\\Temp\\ipykernel_2208\\3515270067.py:5: DeprecationWarning: Starting with ImageIO v3 the behavior of this function will switch to that of iio.v3.imread. To keep the current behavior (and make this warning disappear) use `import imageio.v2 as imageio` or call `imageio.v2.imread` directly.\n",
      "  image = imageio.imread(dir_temp + '/' + img_name)\n"
     ]
    }
   ],
   "source": [
    "from skimage.transform import resize\n",
    "import time\n",
    "sequence = []\n",
    "for img_name in file_list:        \n",
    "    image = imageio.imread(dir_temp + '/' + img_name)\n",
    "    image = resize(image, (MAX_WIDTH, MAX_HEIGHT))\n",
    "    image = 255 * image\n",
    "    # Convert to integer data type pixels.\n",
    "    image = image.astype(np.uint8)\n",
    "    sequence.append(image)                        \n",
    "pad_array = [np.zeros((MAX_WIDTH, MAX_HEIGHT))]                            \n",
    "sequence.extend(pad_array * (max_seq_length - len(sequence)))\n",
    "sequence = np.array(sequence)"
   ]
  },
  {
   "cell_type": "code",
   "execution_count": 13,
   "id": "1399f6ff",
   "metadata": {},
   "outputs": [],
   "source": [
    "def normalize_it(X):\n",
    "    v_min = X.min(axis=(2, 3), keepdims=True)\n",
    "    v_max = X.max(axis=(2, 3), keepdims=True)\n",
    "    X = (X - v_min)/(v_max - v_min)\n",
    "    X = np.nan_to_num(X)\n",
    "    return X"
   ]
  },
  {
   "cell_type": "code",
   "execution_count": 14,
   "id": "258fc826",
   "metadata": {},
   "outputs": [
    {
     "name": "stderr",
     "output_type": "stream",
     "text": [
      "C:\\Users\\prana\\AppData\\Local\\Temp\\ipykernel_2208\\3382126703.py:4: RuntimeWarning: invalid value encountered in divide\n",
      "  X = (X - v_min)/(v_max - v_min)\n"
     ]
    },
    {
     "name": "stdout",
     "output_type": "stream",
     "text": [
      "1/1 [==============================] - 1s 1s/step\n",
      "['Stop']\n"
     ]
    }
   ],
   "source": [
    "X_test = []\n",
    "X_test.append(sequence)\n",
    "X_test = np.array(X_test)\n",
    "X_test = normalize_it(X_test)\n",
    "X_test = np.expand_dims(X_test, axis=4)\n",
    "ypred = savedModel.predict(X_test)\n",
    "words = ['Begin', 'Choose', 'Connection', 'Navigation', 'Next', 'Previous', 'Start', 'Stop', 'Hello', 'Web']  \n",
    "predicted_words = [words[i] for i in np.argmax(ypred, axis=1)]\n",
    "print(predicted_words)"
   ]
  },
  {
   "cell_type": "code",
   "execution_count": null,
   "id": "5350bc82",
   "metadata": {},
   "outputs": [],
   "source": []
  }
 ],
 "metadata": {
  "kernelspec": {
   "display_name": "Python 3 (ipykernel)",
   "language": "python",
   "name": "python3"
  },
  "language_info": {
   "codemirror_mode": {
    "name": "ipython",
    "version": 3
   },
   "file_extension": ".py",
   "mimetype": "text/x-python",
   "name": "python",
   "nbconvert_exporter": "python",
   "pygments_lexer": "ipython3",
   "version": "3.10.9"
  }
 },
 "nbformat": 4,
 "nbformat_minor": 5
}
