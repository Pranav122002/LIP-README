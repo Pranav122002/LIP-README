{
 "cells": [
  {
   "cell_type": "code",
   "execution_count": 1,
   "metadata": {
    "id": "Njnd-KXS4q0M"
   },
   "outputs": [],
   "source": [
    "from tensorflow.keras.models import Model\n",
    "from tensorflow.keras.models import load_model\n",
    "\n",
    "model = load_model('lip_model_cnn_lstm.h5')"
   ]
  },
  {
   "cell_type": "code",
   "execution_count": 2,
   "metadata": {
    "colab": {
     "base_uri": "https://localhost:8080/"
    },
    "id": "BrbIJZg15Jre",
    "outputId": "803d86b1-5a7c-4066-deac-ec1e52f90d8e"
   },
   "outputs": [
    {
     "name": "stdout",
     "output_type": "stream",
     "text": [
      "Model: \"sequential\"\n",
      "_________________________________________________________________\n",
      " Layer (type)                Output Shape              Param #   \n",
      "=================================================================\n",
      " conv3d (Conv3D)             (None, 20, 98, 98, 32)    896       \n",
      "                                                                 \n",
      " max_pooling3d (MaxPooling3D  (None, 10, 49, 49, 32)   0         \n",
      " )                                                               \n",
      "                                                                 \n",
      " conv3d_1 (Conv3D)           (None, 8, 47, 47, 64)     55360     \n",
      "                                                                 \n",
      " max_pooling3d_1 (MaxPooling  (None, 4, 23, 23, 64)    0         \n",
      " 3D)                                                             \n",
      "                                                                 \n",
      " conv3d_2 (Conv3D)           (None, 2, 21, 21, 128)    221312    \n",
      "                                                                 \n",
      " max_pooling3d_2 (MaxPooling  (None, 1, 10, 10, 128)   0         \n",
      " 3D)                                                             \n",
      "                                                                 \n",
      " reshape (Reshape)           (None, 128, 100)          0         \n",
      "                                                                 \n",
      " lstm (LSTM)                 (None, 128, 32)           17024     \n",
      "                                                                 \n",
      " dropout (Dropout)           (None, 128, 32)           0         \n",
      "                                                                 \n",
      " flatten (Flatten)           (None, 4096)              0         \n",
      "                                                                 \n",
      " dense (Dense)               (None, 2048)              8390656   \n",
      "                                                                 \n",
      " dropout_1 (Dropout)         (None, 2048)              0         \n",
      "                                                                 \n",
      " dense_1 (Dense)             (None, 1024)              2098176   \n",
      "                                                                 \n",
      " dropout_2 (Dropout)         (None, 1024)              0         \n",
      "                                                                 \n",
      " dense_2 (Dense)             (None, 10)                10250     \n",
      "                                                                 \n",
      "=================================================================\n",
      "Total params: 10,793,674\n",
      "Trainable params: 10,793,674\n",
      "Non-trainable params: 0\n",
      "_________________________________________________________________\n"
     ]
    }
   ],
   "source": [
    "model.summary()"
   ]
  },
  {
   "cell_type": "markdown",
   "metadata": {
    "id": "JccN1kbA5jaI"
   },
   "source": [
    "get list of all layers\n"
   ]
  },
  {
   "cell_type": "code",
   "execution_count": 3,
   "metadata": {
    "colab": {
     "base_uri": "https://localhost:8080/"
    },
    "id": "2W79owwo5L5O",
    "outputId": "9369f833-b953-4839-ac84-c9bc2176be5c"
   },
   "outputs": [
    {
     "data": {
      "text/plain": [
       "[<keras.layers.convolutional.conv3d.Conv3D at 0x25f7a254b20>,\n",
       " <keras.layers.pooling.max_pooling3d.MaxPooling3D at 0x25f7a254b80>,\n",
       " <keras.layers.convolutional.conv3d.Conv3D at 0x25f7a255660>,\n",
       " <keras.layers.pooling.max_pooling3d.MaxPooling3D at 0x25f7a256f20>,\n",
       " <keras.layers.convolutional.conv3d.Conv3D at 0x25f7a257c70>,\n",
       " <keras.layers.pooling.max_pooling3d.MaxPooling3D at 0x25f7a257af0>,\n",
       " <keras.layers.reshaping.reshape.Reshape at 0x25f7b4fc430>,\n",
       " <keras.layers.rnn.lstm.LSTM at 0x25f7a257dc0>,\n",
       " <keras.layers.regularization.dropout.Dropout at 0x25f534b80a0>,\n",
       " <keras.layers.reshaping.flatten.Flatten at 0x25f53487190>,\n",
       " <keras.layers.core.dense.Dense at 0x25f53486dd0>,\n",
       " <keras.layers.regularization.dropout.Dropout at 0x25f53484dc0>,\n",
       " <keras.layers.core.dense.Dense at 0x25f53487850>,\n",
       " <keras.layers.regularization.dropout.Dropout at 0x25f53487370>,\n",
       " <keras.layers.core.dense.Dense at 0x25f7a254af0>]"
      ]
     },
     "execution_count": 3,
     "metadata": {},
     "output_type": "execute_result"
    }
   ],
   "source": [
    "layer = model.layers\n",
    "layer"
   ]
  },
  {
   "cell_type": "code",
   "execution_count": 4,
   "metadata": {
    "colab": {
     "base_uri": "https://localhost:8080/"
    },
    "id": "hCS697XH5fWX",
    "outputId": "2805079d-0762-4f71-9164-8f15cc2d88c6"
   },
   "outputs": [
    {
     "name": "stdout",
     "output_type": "stream",
     "text": [
      "conv3d (3, 3, 3, 1, 32)\n"
     ]
    }
   ],
   "source": [
    "filters, biases = model.layers[0].get_weights()\n",
    "print(layer[0].name, filters.shape)"
   ]
  },
  {
   "cell_type": "code",
   "execution_count": 5,
   "metadata": {
    "id": "6XRjTIjH6eYS"
   },
   "outputs": [],
   "source": [
    "import matplotlib.pyplot as plt"
   ]
  },
  {
   "cell_type": "code",
   "execution_count": 6,
   "metadata": {
    "colab": {
     "base_uri": "https://localhost:8080/",
     "height": 665
    },
    "id": "niyZoXEX6aBB",
    "outputId": "0624f28d-9214-4863-929a-5037abe7a0e2"
   },
   "outputs": [
    {
     "ename": "IndexError",
     "evalue": "index 32 is out of bounds for axis 4 with size 32",
     "output_type": "error",
     "traceback": [
      "\u001b[1;31m---------------------------------------------------------------------------\u001b[0m",
      "\u001b[1;31mIndexError\u001b[0m                                Traceback (most recent call last)",
      "Cell \u001b[1;32mIn[6], line 6\u001b[0m\n\u001b[0;32m      4\u001b[0m n_filters \u001b[38;5;241m=\u001b[39m columns \u001b[38;5;241m*\u001b[39m rows\n\u001b[0;32m      5\u001b[0m \u001b[38;5;28;01mfor\u001b[39;00m i \u001b[38;5;129;01min\u001b[39;00m \u001b[38;5;28mrange\u001b[39m(\u001b[38;5;241m1\u001b[39m, n_filters \u001b[38;5;241m+\u001b[39m\u001b[38;5;241m1\u001b[39m):\n\u001b[1;32m----> 6\u001b[0m     f \u001b[38;5;241m=\u001b[39m \u001b[43mfilters\u001b[49m\u001b[43m[\u001b[49m\u001b[43m:\u001b[49m\u001b[43m,\u001b[49m\u001b[43m \u001b[49m\u001b[43m:\u001b[49m\u001b[43m,\u001b[49m\u001b[43m \u001b[49m\u001b[43m:\u001b[49m\u001b[43m,\u001b[49m\u001b[38;5;241;43m0\u001b[39;49m\u001b[43m,\u001b[49m\u001b[43m \u001b[49m\u001b[43mi\u001b[49m\u001b[38;5;241;43m-\u001b[39;49m\u001b[38;5;241;43m1\u001b[39;49m\u001b[43m]\u001b[49m\n\u001b[0;32m      7\u001b[0m     fig1 \u001b[38;5;241m=\u001b[39mplt\u001b[38;5;241m.\u001b[39msubplot(rows, columns, i)\n\u001b[0;32m      8\u001b[0m     fig1\u001b[38;5;241m.\u001b[39mset_xticks([])  \u001b[38;5;66;03m#Turn off axis\u001b[39;00m\n",
      "\u001b[1;31mIndexError\u001b[0m: index 32 is out of bounds for axis 4 with size 32"
     ]
    },
    {
     "data": {
      "image/png": "[encoded data removed]",
      "text/plain": [
       "<Figure size 800x1200 with 32 Axes>"
      ]
     },
     "metadata": {},
     "output_type": "display_data"
    }
   ],
   "source": [
    "fig1 = plt.figure(figsize=(8,12))\n",
    "columns = 8\n",
    "rows = 8\n",
    "n_filters = columns * rows\n",
    "for i in range(1, n_filters +1):\n",
    "    f = filters[:, :, :,0, i-1]\n",
    "    fig1 =plt.subplot(rows, columns, i)\n",
    "    fig1.set_xticks([])  #Turn off axis\n",
    "    fig1.set_yticks([])\n",
    "    plt.imshow(f[:, :, 0], cmap='gray') #Show only the filters from 0th channel (R)\n",
    "    #ix += 1\n",
    "plt.show() "
   ]
  }
 ],
 "metadata": {
  "accelerator": "GPU",
  "colab": {
   "provenance": []
  },
  "gpuClass": "standard",
  "kernelspec": {
   "display_name": "Python 3 (ipykernel)",
   "language": "python",
   "name": "python3"
  },
  "language_info": {
   "codemirror_mode": {
    "name": "ipython",
    "version": 3
   },
   "file_extension": ".py",
   "mimetype": "text/x-python",
   "name": "python",
   "nbconvert_exporter": "python",
   "pygments_lexer": "ipython3",
   "version": "3.10.9"
  }
 },
 "nbformat": 4,
 "nbformat_minor": 1
}
